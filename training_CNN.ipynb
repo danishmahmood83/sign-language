{
 "cells": [
  {
   "cell_type": "code",
   "execution_count": 2,
   "id": "121a8c04",
   "metadata": {
    "scrolled": false
   },
   "outputs": [
    {
     "name": "stdout",
     "output_type": "stream",
     "text": [
      "Found 14650 images belonging to 10 classes.\n",
      "Found 350 images belonging to 10 classes.\n"
     ]
    },
    {
     "name": "stderr",
     "output_type": "stream",
     "text": [
      "Clipping input data to the valid range for imshow with RGB data ([0..1] for floats or [0..255] for integers).\n",
      "Clipping input data to the valid range for imshow with RGB data ([0..1] for floats or [0..255] for integers).\n",
      "Clipping input data to the valid range for imshow with RGB data ([0..1] for floats or [0..255] for integers).\n",
      "Clipping input data to the valid range for imshow with RGB data ([0..1] for floats or [0..255] for integers).\n",
      "Clipping input data to the valid range for imshow with RGB data ([0..1] for floats or [0..255] for integers).\n",
      "Clipping input data to the valid range for imshow with RGB data ([0..1] for floats or [0..255] for integers).\n",
      "Clipping input data to the valid range for imshow with RGB data ([0..1] for floats or [0..255] for integers).\n",
      "Clipping input data to the valid range for imshow with RGB data ([0..1] for floats or [0..255] for integers).\n",
      "Clipping input data to the valid range for imshow with RGB data ([0..1] for floats or [0..255] for integers).\n",
      "Clipping input data to the valid range for imshow with RGB data ([0..1] for floats or [0..255] for integers).\n"
     ]
    },
    {
     "data": {
      "image/png": "[encoded data removed]",
      "text/plain": [
       "<Figure size 3000x2000 with 10 Axes>"
      ]
     },
     "metadata": {},
     "output_type": "display_data"
    },
    {
     "name": "stdout",
     "output_type": "stream",
     "text": [
      "(10, 64, 64, 3)\n",
      "[[0. 0. 0. 0. 1. 0. 0. 0. 0. 0.]\n",
      " [0. 0. 0. 0. 0. 0. 0. 1. 0. 0.]\n",
      " [0. 0. 0. 0. 0. 0. 0. 1. 0. 0.]\n",
      " [0. 0. 0. 1. 0. 0. 0. 0. 0. 0.]\n",
      " [0. 0. 0. 0. 0. 0. 0. 1. 0. 0.]\n",
      " [0. 0. 0. 0. 0. 0. 0. 0. 0. 1.]\n",
      " [0. 0. 0. 0. 0. 0. 0. 0. 1. 0.]\n",
      " [0. 0. 0. 1. 0. 0. 0. 0. 0. 0.]\n",
      " [0. 0. 0. 0. 0. 1. 0. 0. 0. 0.]\n",
      " [0. 0. 0. 1. 0. 0. 0. 0. 0. 0.]]\n",
      "Epoch 1/10\n",
      "   7/1465 [..............................] - ETA: 13s - loss: 5.2669 - accuracy: 0.0857     "
     ]
    },
    {
     "name": "stderr",
     "output_type": "stream",
     "text": [
      "2023-06-16 09:42:52.969198: I tensorflow/core/grappler/optimizers/custom_graph_optimizer_registry.cc:114] Plugin optimizer for device_type GPU is enabled.\n"
     ]
    },
    {
     "name": "stdout",
     "output_type": "stream",
     "text": [
      "1465/1465 [==============================] - 12s 8ms/step - loss: 1.7020 - accuracy: 0.4055 - val_loss: 1.5992 - val_accuracy: 0.4457 - lr: 0.0010\n",
      "Epoch 2/10\n",
      "   1/1465 [..............................] - ETA: 19s - loss: 1.7932 - accuracy: 0.4000"
     ]
    },
    {
     "name": "stderr",
     "output_type": "stream",
     "text": [
      "2023-06-16 09:43:04.501507: I tensorflow/core/grappler/optimizers/custom_graph_optimizer_registry.cc:114] Plugin optimizer for device_type GPU is enabled.\n"
     ]
    },
    {
     "name": "stdout",
     "output_type": "stream",
     "text": [
      "1465/1465 [==============================] - 12s 8ms/step - loss: 0.8561 - accuracy: 0.7116 - val_loss: 0.9286 - val_accuracy: 0.6943 - lr: 0.0010\n",
      "Epoch 3/10\n",
      "1465/1465 [==============================] - 12s 8ms/step - loss: 0.5105 - accuracy: 0.8343 - val_loss: 0.8750 - val_accuracy: 0.7371 - lr: 0.0010\n",
      "Epoch 4/10\n",
      "1465/1465 [==============================] - 12s 8ms/step - loss: 0.3266 - accuracy: 0.8928 - val_loss: 0.5336 - val_accuracy: 0.8343 - lr: 0.0010\n",
      "Epoch 5/10\n",
      "1465/1465 [==============================] - 12s 8ms/step - loss: 0.2215 - accuracy: 0.9292 - val_loss: 0.4051 - val_accuracy: 0.8829 - lr: 0.0010\n",
      "Epoch 6/10\n",
      "1465/1465 [==============================] - 12s 8ms/step - loss: 0.1464 - accuracy: 0.9541 - val_loss: 0.4505 - val_accuracy: 0.8714 - lr: 0.0010\n",
      "Epoch 7/10\n",
      "1465/1465 [==============================] - 12s 8ms/step - loss: 0.0731 - accuracy: 0.9801 - val_loss: 0.3666 - val_accuracy: 0.9000 - lr: 5.0000e-04\n",
      "Epoch 8/10\n",
      "1465/1465 [==============================] - 11s 8ms/step - loss: 0.0487 - accuracy: 0.9881 - val_loss: 0.3555 - val_accuracy: 0.8971 - lr: 5.0000e-04\n",
      "Epoch 9/10\n",
      "1465/1465 [==============================] - 12s 8ms/step - loss: 0.0342 - accuracy: 0.9931 - val_loss: 0.3648 - val_accuracy: 0.9000 - lr: 5.0000e-04\n",
      "Epoch 10/10\n",
      "1465/1465 [==============================] - 12s 8ms/step - loss: 0.0254 - accuracy: 0.9959 - val_loss: 0.4176 - val_accuracy: 0.8971 - lr: 5.0000e-04\n",
      "loss of 0.3893042504787445; accuracy of 90.00000357627869%\n",
      "{'loss': [1.7019953727722168, 0.8561393618583679, 0.5104942917823792, 0.3266303539276123, 0.22150388360023499, 0.14644289016723633, 0.0731344074010849, 0.048723671585321426, 0.034189365804195404, 0.025380153208971024], 'accuracy': [0.40546077489852905, 0.711604118347168, 0.8343344926834106, 0.8928328156471252, 0.9292150735855103, 0.9540615081787109, 0.9800683259963989, 0.988054633140564, 0.9931058287620544, 0.9959045052528381], 'val_loss': [1.5992319583892822, 0.9285919666290283, 0.8750301003456116, 0.5336146354675293, 0.4050692617893219, 0.4505223333835602, 0.3665688633918762, 0.3555147051811218, 0.36483246088027954, 0.41762229800224304], 'val_accuracy': [0.4457142949104309, 0.6942856907844543, 0.7371428608894348, 0.8342856764793396, 0.8828571438789368, 0.8714285492897034, 0.8999999761581421, 0.8971428275108337, 0.8999999761581421, 0.8971428275108337], 'lr': [0.001, 0.001, 0.001, 0.001, 0.001, 0.001, 0.0005, 0.0005, 0.0005, 0.0005]}\n",
      "loss of 0.7066676020622253; accuracy of 80.0000011920929%\n",
      "Model: \"sequential_1\"\n",
      "_________________________________________________________________\n",
      " Layer (type)                Output Shape              Param #   \n",
      "=================================================================\n",
      " conv2d_3 (Conv2D)           (None, 62, 62, 32)        896       \n",
      "                                                                 \n",
      " max_pooling2d_3 (MaxPooling  (None, 31, 31, 32)       0         \n",
      " 2D)                                                             \n",
      "                                                                 \n",
      " conv2d_4 (Conv2D)           (None, 31, 31, 64)        18496     \n",
      "                                                                 \n",
      " max_pooling2d_4 (MaxPooling  (None, 15, 15, 64)       0         \n",
      " 2D)                                                             \n",
      "                                                                 \n",
      " conv2d_5 (Conv2D)           (None, 13, 13, 128)       73856     \n",
      "                                                                 \n",
      " max_pooling2d_5 (MaxPooling  (None, 6, 6, 128)        0         \n",
      " 2D)                                                             \n",
      "                                                                 \n",
      " flatten_1 (Flatten)         (None, 4608)              0         \n",
      "                                                                 \n",
      " dense_4 (Dense)             (None, 64)                294976    \n",
      "                                                                 \n",
      " dense_5 (Dense)             (None, 128)               8320      \n",
      "                                                                 \n",
      " dense_6 (Dense)             (None, 128)               16512     \n",
      "                                                                 \n",
      " dense_7 (Dense)             (None, 10)                1290      \n",
      "                                                                 \n",
      "=================================================================\n",
      "Total params: 414,346\n",
      "Trainable params: 414,346\n",
      "Non-trainable params: 0\n",
      "_________________________________________________________________\n"
     ]
    },
    {
     "name": "stderr",
     "output_type": "stream",
     "text": [
      "2023-06-16 09:44:51.262878: I tensorflow/core/grappler/optimizers/custom_graph_optimizer_registry.cc:114] Plugin optimizer for device_type GPU is enabled.\n",
      "2023-06-16 09:44:51.352516: I tensorflow/core/grappler/optimizers/custom_graph_optimizer_registry.cc:114] Plugin optimizer for device_type GPU is enabled.\n",
      "Clipping input data to the valid range for imshow with RGB data ([0..1] for floats or [0..255] for integers).\n",
      "Clipping input data to the valid range for imshow with RGB data ([0..1] for floats or [0..255] for integers).\n",
      "Clipping input data to the valid range for imshow with RGB data ([0..1] for floats or [0..255] for integers).\n",
      "Clipping input data to the valid range for imshow with RGB data ([0..1] for floats or [0..255] for integers).\n",
      "Clipping input data to the valid range for imshow with RGB data ([0..1] for floats or [0..255] for integers).\n",
      "Clipping input data to the valid range for imshow with RGB data ([0..1] for floats or [0..255] for integers).\n",
      "Clipping input data to the valid range for imshow with RGB data ([0..1] for floats or [0..255] for integers).\n",
      "Clipping input data to the valid range for imshow with RGB data ([0..1] for floats or [0..255] for integers).\n",
      "Clipping input data to the valid range for imshow with RGB data ([0..1] for floats or [0..255] for integers).\n",
      "Clipping input data to the valid range for imshow with RGB data ([0..1] for floats or [0..255] for integers).\n"
     ]
    },
    {
     "name": "stdout",
     "output_type": "stream",
     "text": [
      "Result of trained model on a small set of test data\n",
      "\n",
      "Predictions\n",
      "-----------\n",
      "Four   Five   Eight   Four   Eight   Two   Eight   Four   Nine   One   "
     ]
    },
    {
     "data": {
      "image/png": "[encoded data removed]",
      "text/plain": [
       "<Figure size 3000x2000 with 10 Axes>"
      ]
     },
     "metadata": {},
     "output_type": "display_data"
    },
    {
     "name": "stdout",
     "output_type": "stream",
     "text": [
      "Actual labels\n",
      "-------------\n",
      "Four   Five   Eight   Four   Eight   Six   Nine   Four   Nine   One   (10, 64, 64, 3)\n"
     ]
    },
    {
     "data": {
      "text/plain": [
       "{'loss': [1.7019953727722168,\n",
       "  0.8561393618583679,\n",
       "  0.5104942917823792,\n",
       "  0.3266303539276123,\n",
       "  0.22150388360023499,\n",
       "  0.14644289016723633,\n",
       "  0.0731344074010849,\n",
       "  0.048723671585321426,\n",
       "  0.034189365804195404,\n",
       "  0.025380153208971024],\n",
       " 'accuracy': [0.40546077489852905,\n",
       "  0.711604118347168,\n",
       "  0.8343344926834106,\n",
       "  0.8928328156471252,\n",
       "  0.9292150735855103,\n",
       "  0.9540615081787109,\n",
       "  0.9800683259963989,\n",
       "  0.988054633140564,\n",
       "  0.9931058287620544,\n",
       "  0.9959045052528381],\n",
       " 'val_loss': [1.5992319583892822,\n",
       "  0.9285919666290283,\n",
       "  0.8750301003456116,\n",
       "  0.5336146354675293,\n",
       "  0.4050692617893219,\n",
       "  0.4505223333835602,\n",
       "  0.3665688633918762,\n",
       "  0.3555147051811218,\n",
       "  0.36483246088027954,\n",
       "  0.41762229800224304],\n",
       " 'val_accuracy': [0.4457142949104309,\n",
       "  0.6942856907844543,\n",
       "  0.7371428608894348,\n",
       "  0.8342856764793396,\n",
       "  0.8828571438789368,\n",
       "  0.8714285492897034,\n",
       "  0.8999999761581421,\n",
       "  0.8971428275108337,\n",
       "  0.8999999761581421,\n",
       "  0.8971428275108337],\n",
       " 'lr': [0.001,\n",
       "  0.001,\n",
       "  0.001,\n",
       "  0.001,\n",
       "  0.001,\n",
       "  0.001,\n",
       "  0.0005,\n",
       "  0.0005,\n",
       "  0.0005,\n",
       "  0.0005]}"
      ]
     },
     "execution_count": 2,
     "metadata": {},
     "output_type": "execute_result"
    }
   ],
   "source": [
    "import tensorflow as tf\n",
    "from tensorflow import keras\n",
    "from keras.models import Sequential\n",
    "from keras.layers import Activation, Dense, Flatten, BatchNormalization, Conv2D, MaxPool2D, Dropout\n",
    "from keras.optimizers import Adam, SGD\n",
    "from keras.metrics import categorical_crossentropy\n",
    "from keras.preprocessing.image import ImageDataGenerator\n",
    "from keras.callbacks import ReduceLROnPlateau\n",
    "from keras.callbacks import ModelCheckpoint, EarlyStopping\n",
    "import itertools\n",
    "import random\n",
    "import warnings\n",
    "import numpy as np\n",
    "import cv2\n",
    "import matplotlib.pyplot as plt\n",
    "warnings.simplefilter(action='ignore', category=FutureWarning)\n",
    "\n",
    "data_count = 10\n",
    "\n",
    "train_path = 'gesture/train'\n",
    "test_path = 'gesture/test'\n",
    "\n",
    "train_batches = ImageDataGenerator(preprocessing_function=tf.keras.applications.vgg16.preprocess_input).flow_from_directory(directory=train_path, target_size=(64,64), class_mode='categorical', batch_size=data_count,shuffle=True)\n",
    "test_batches = ImageDataGenerator(preprocessing_function=tf.keras.applications.vgg16.preprocess_input).flow_from_directory(directory=test_path, target_size=(64,64), class_mode='categorical', batch_size=data_count, shuffle=True)\n",
    "\n",
    "imgs, labels = next(train_batches)\n",
    "\n",
    "\n",
    "# Plotting the images\n",
    "def plotImages(images_arr):\n",
    "    fig, axes = plt.subplots(1, data_count, figsize=(30,20))\n",
    "    axes = axes.flatten()\n",
    "    for img, ax in zip( images_arr, axes):\n",
    "        img = cv2.cvtColor(img, cv2.COLOR_BGR2RGB)\n",
    "        ax.imshow(img)\n",
    "        ax.axis('off')\n",
    "    plt.tight_layout()\n",
    "    plt.show()\n",
    "\n",
    "plotImages(imgs)\n",
    "print(imgs.shape)\n",
    "print(labels)\n",
    "\n",
    "model = Sequential()\n",
    "\n",
    "model.add(Conv2D(filters=32, kernel_size=(3, 3), activation='relu', input_shape=(64,64,3)))\n",
    "model.add(MaxPool2D(pool_size=(2, 2), strides=2))\n",
    "\n",
    "model.add(Conv2D(filters=64, kernel_size=(3, 3), activation='relu', padding = 'same'))\n",
    "model.add(MaxPool2D(pool_size=(2, 2), strides=2))\n",
    "\n",
    "model.add(Conv2D(filters=128, kernel_size=(3, 3), activation='relu', padding = 'valid'))\n",
    "model.add(MaxPool2D(pool_size=(2, 2), strides=2))\n",
    "\n",
    "model.add(Flatten())\n",
    "\n",
    "model.add(Dense(64,activation =\"relu\"))\n",
    "model.add(Dense(128,activation =\"relu\"))\n",
    "model.add(Dense(128,activation =\"relu\"))\n",
    "model.add(Dense(10,activation =\"softmax\"))\n",
    "\n",
    "\n",
    "model.compile(optimizer=Adam(learning_rate=0.001), loss='categorical_crossentropy', metrics=['accuracy'])\n",
    "reduce_lr = ReduceLROnPlateau(monitor='val_loss', factor=0.2, patience=1, min_lr=0.0001)\n",
    "early_stop = EarlyStopping(monitor='val_loss', min_delta=0, patience=2, verbose=0, mode='auto')\n",
    "\n",
    "\n",
    "model.compile(optimizer=SGD(learning_rate=0.001), loss='categorical_crossentropy', metrics=['accuracy'])\n",
    "reduce_lr = ReduceLROnPlateau(monitor='val_loss', factor=0.2, patience=1, min_lr=0.0005)\n",
    "early_stop = EarlyStopping(monitor='val_loss', min_delta=0, patience=2, verbose=0, mode='auto')\n",
    "\n",
    "\n",
    "history2 = model.fit(train_batches, epochs=10, callbacks=[reduce_lr, early_stop],  validation_data = test_batches)\n",
    "\n",
    "# getting next batch of train images\n",
    "imgs, labels = next(train_batches) \n",
    "\n",
    "# getting next batch of test images\n",
    "imgs, labels = next(test_batches) \n",
    "\n",
    "scores = model.evaluate(imgs, labels, verbose=0)\n",
    "print(f'{model.metrics_names[0]} of {scores[0]}; {model.metrics_names[1]} of {scores[1]*100}%')\n",
    "\n",
    "model.save('sign_language_best_model.h5')\n",
    "\n",
    "print(history2.history)\n",
    "\n",
    "imgs, labels = next(test_batches)\n",
    "\n",
    "model = keras.models.load_model(r\"sign_language_best_model.h5\")\n",
    "\n",
    "scores = model.evaluate(imgs, labels, verbose=0)\n",
    "print(f'{model.metrics_names[0]} of {scores[0]}; {model.metrics_names[1]} of {scores[1]*100}%')\n",
    "\n",
    "model.summary()\n",
    "\n",
    "scores #[loss, accuracy] on test data...\n",
    "model.metrics_names\n",
    "\n",
    "\n",
    "word_dict = {0:'Zero',1:'One',2:'Two',3:'Three',4:'Four',5:'Five',6:'Six',7:'Seven',8:'Eight',9:'Nine'}\n",
    "\n",
    "predictions = model.predict(imgs, verbose=0)\n",
    "print(\"Result of trained model on a small set of test data\")\n",
    "print(\"\")\n",
    "print(\"Predictions\")\n",
    "print(\"-----------\")\n",
    "for ind, i in enumerate(predictions):\n",
    "    print(word_dict[np.argmax(i)], end='   ')\n",
    "\n",
    "plotImages(imgs)\n",
    "print(\"Actual labels\")\n",
    "print(\"-------------\")\n",
    "for i in labels:\n",
    "    print(word_dict[np.argmax(i)], end='   ')\n",
    "\n",
    "print(imgs.shape)\n",
    "\n",
    "history2.history"
   ]
  },
  {
   "cell_type": "code",
   "execution_count": null,
   "id": "dcc568d4",
   "metadata": {},
   "outputs": [],
   "source": []
  }
 ],
 "metadata": {
  "kernelspec": {
   "display_name": "Python 3.10 (tensorflow)",
   "language": "python",
   "name": "tensorflow"
  },
  "language_info": {
   "codemirror_mode": {
    "name": "ipython",
    "version": 3
   },
   "file_extension": ".py",
   "mimetype": "text/x-python",
   "name": "python",
   "nbconvert_exporter": "python",
   "pygments_lexer": "ipython3",
   "version": "3.10.9"
  }
 },
 "nbformat": 4,
 "nbformat_minor": 5
}
